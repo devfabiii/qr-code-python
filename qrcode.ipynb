{
 "cells": [
  {
   "cell_type": "code",
   "execution_count": 4,
   "id": "d499c4df",
   "metadata": {},
   "outputs": [],
   "source": [
    "# Fazendo QRcode \n",
    "\n",
    "import qrcode\n",
    "\n",
    "meu_qrcode = qrcode.make(\"https://github.com/devfabiii\") #inserir o site desejado\n",
    "meu_qrcode.save(\"qrcode_gitdevfabiii.png\")"
   ]
  },
  {
   "cell_type": "code",
   "execution_count": null,
   "id": "67aef2d4",
   "metadata": {},
   "outputs": [],
   "source": []
  },
  {
   "cell_type": "code",
   "execution_count": null,
   "id": "14e72420",
   "metadata": {},
   "outputs": [],
   "source": []
  }
 ],
 "metadata": {
  "kernelspec": {
   "display_name": "Python 3 (ipykernel)",
   "language": "python",
   "name": "python3"
  },
  "language_info": {
   "codemirror_mode": {
    "name": "ipython",
    "version": 3
   },
   "file_extension": ".py",
   "mimetype": "text/x-python",
   "name": "python",
   "nbconvert_exporter": "python",
   "pygments_lexer": "ipython3",
   "version": "3.9.7"
  }
 },
 "nbformat": 4,
 "nbformat_minor": 5
}
